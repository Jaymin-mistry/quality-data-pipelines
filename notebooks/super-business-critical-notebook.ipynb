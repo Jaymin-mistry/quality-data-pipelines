{
 "cells": [
  {
   "cell_type": "code",
   "execution_count": null,
   "metadata": {},
   "outputs": [],
   "source": [
    "import pandas as pd"
   ]
  },
  {
   "cell_type": "code",
   "execution_count": null,
   "metadata": {},
   "outputs": [],
   "source": [
    "data_filepath = \"../data/January-2024.csv\"\n",
    "df = pd.read_csv(data_filepath)\n",
    "month_year = data_filepath.split(\"/\")[-1].split(\".\")[0]"
   ]
  },
  {
   "cell_type": "code",
   "execution_count": null,
   "metadata": {},
   "outputs": [],
   "source": [
    "month_year"
   ]
  },
  {
   "cell_type": "code",
   "execution_count": null,
   "metadata": {},
   "outputs": [],
   "source": [
    "# Fix wrong postage\n",
    "\n",
    "def convert_negative_to_positive(value):\n",
    "    if value < 0:\n",
    "        return abs(value)\n",
    "    return value\n",
    "\n",
    "# Applying the function to the 'postage' column\n",
    "df['postage'] = df['postage'].apply(convert_negative_to_positive)"
   ]
  },
  {
   "cell_type": "markdown",
   "metadata": {},
   "source": [
    "This notebook makes some really important business reports that are really important to us"
   ]
  },
  {
   "cell_type": "code",
   "execution_count": null,
   "metadata": {},
   "outputs": [],
   "source": [
    "# Calculate sales by area\n",
    "\n",
    "salesdf = df.groupby(\"State\")[\"item_count\"].agg({\"sum\", \"min\", \"max\", \"count\"}).reset_index()\n",
    "salesdf.head()"
   ]
  },
  {
   "cell_type": "markdown",
   "metadata": {},
   "source": []
  },
  {
   "cell_type": "code",
   "execution_count": null,
   "metadata": {},
   "outputs": [],
   "source": [
    "age_intervals = [0,18, 30, 50, 70, 120]"
   ]
  },
  {
   "cell_type": "code",
   "execution_count": null,
   "metadata": {},
   "outputs": [],
   "source": [
    "def put_in_age_group(age:int)-> str:\n",
    "    if age < 18:\n",
    "        group = \"0-18\"\n",
    "    elif 18 <= age < 30:\n",
    "        group = \"18-30\"\n",
    "    elif 30 <= age < 50:\n",
    "        group = \"30-50\"\n",
    "    elif 50 <= age < 70:\n",
    "        group = \"50-70\"\n",
    "    else:\n",
    "        group = \"over 70\"\n",
    "    \n",
    "    return group"
   ]
  },
  {
   "cell_type": "code",
   "execution_count": null,
   "metadata": {},
   "outputs": [],
   "source": [
    "df['group'] = df['Age'].apply(put_in_age_group)\n",
    "df"
   ]
  },
  {
   "cell_type": "code",
   "execution_count": null,
   "metadata": {},
   "outputs": [],
   "source": [
    "sales_by_age_group_df = df.groupby(\"group\")[\"item_count\"].agg({\"mean\",\"median\", \"count\"}).reset_index()\n",
    "sales_by_age_group_df"
   ]
  },
  {
   "cell_type": "code",
   "execution_count": null,
   "metadata": {},
   "outputs": [],
   "source": [
    "data = {\"sales_by_region\": salesdf,\"sales_by_age\":sales_by_age_group_df}"
   ]
  },
  {
   "cell_type": "code",
   "execution_count": null,
   "metadata": {},
   "outputs": [],
   "source": [
    "output_path = f\"/Users/jayminmistry/Documents/quality-data-pipelines/data/super_critical_business-report-{month_year}.xlsx\"\n",
    "with pd.ExcelWriter(output_path, engine=\"xlsxwriter\") as writer:\n",
    "  #  data = [sales_by_age_group_df, salesdf]\n",
    "    for sheetname, frame in data.items():\n",
    "        frame.to_excel(writer, sheet_name = sheetname, startrow=2, index=False, header=False)\n",
    "        header_format = writer.book.add_format(\n",
    "            {\"bold\": True, \"text_wrap\": True, \"valign\": \"top\", \"border\": 1}\n",
    "        )\n",
    "        for col_num, value in enumerate(frame.columns.values):\n",
    "            writer.sheets[sheetname].write(1, col_num, value, header_format)\n",
    "\n",
    "        # apply autofiltering and freeze first row and column\n",
    "        writer.sheets[sheetname].freeze_panes(2, 1)"
   ]
  }
 ],
 "metadata": {
  "kernelspec": {
   "display_name": ".venv",
   "language": "python",
   "name": "python3"
  },
  "language_info": {
   "codemirror_mode": {
    "name": "ipython",
    "version": 3
   },
   "file_extension": ".py",
   "mimetype": "text/x-python",
   "name": "python",
   "nbconvert_exporter": "python",
   "pygments_lexer": "ipython3",
   "version": "3.10.12"
  }
 },
 "nbformat": 4,
 "nbformat_minor": 2
}
